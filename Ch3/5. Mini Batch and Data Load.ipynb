{
 "cells": [
  {
   "cell_type": "markdown",
   "id": "2a643ee9",
   "metadata": {},
   "source": [
    "# Mini batch and iteration"
   ]
  },
  {
   "cell_type": "markdown",
   "id": "01daae60",
   "metadata": {},
   "source": [
    "데이터 샘플이 5개정도인것을 예로들어 앞에서는 설명했습니다. 전체 데이터를 하나의 행렬로 선언하여 전체 데이터에 대해서 경사 하강법을 수행하여 학습할 수 있습니다. 그런데 위 데이터는 현업에서 다루게 되는 방대한 양의 데이터에 비하면 굉장히 적은 양입니다. 만약, 데이터가 수십만개 이상이라면 전체 데이터에 대해서 경사 하강법을 수행하는 것은 매우 느릴 뿐만 아니라 많은 계산량이 필요합니다. 정말 어쩌면 메모리의 한계로 계산이 불가능한 경우도 있을 수 있습니다.\n",
    "\n",
    "그렇기 때문에 전체 데이터를 더 작은 단위로 나누어서 해당 단위로 학습하는 개념이 나오게 되었습니다.\n",
    "이 단위를 미니 배치(Mini Batch)라고 합니다.\n",
    "\n",
    "미니 배치 학습을 하게되면 미니 배치만큼만 가져가서 미니 배치에 대한 대한 비용(cost)를 계산하고, 경사 하강법을 수행합니다. 그리고 다음 미니 배치를 가져가서 경사 하강법을 수행하고 마지막 미니 배치까지 이를 반복합니다. 이렇게 전체 데이터에 대한 학습이 1회 끝나면 1 에포크(Epoch)가 끝나게 됩니다.\n",
    "\n",
    "위의 그림은 전체 데이터를 미니 배치 단위로 나누는 것을 보여줍니다. 미니 배치 학습을 하게되면 미니 배치만큼만 가져가서 미니 배치에 대한 대한 비용(cost)를 계산하고, 경사 하강법을 수행합니다. 그리고 다음 미니 배치를 가져가서 경사 하강법을 수행하고 마지막 미니 배치까지 이를 반복합니다. 이렇게 전체 데이터에 대한 학습이 1회 끝나면 1 에포크(Epoch)가 끝나게 됩니다.\n",
    "\n",
    "에포크(Epoch)는 전체 훈련 데이터가 학습에 한 번 사용된 주기를 말한다고 언급한 바 있습니다.\n",
    "미니 배치 학습에서는 미니 배치의 개수만큼 경사 하강법을 수행해야 전체 데이터가 한 번 전부 사용되어 1 에포크(Epoch)가 됩니다. 미니 배치의 개수는 결국 미니 배치의 크기를 몇으로 하느냐에 따라서 달라지는데 미니 배치의 크기를 배치 크기(batch size)라고 합니다.\n",
    "\n",
    "전체 데이터에 대해서 한 번에 경사 하강법을 수행하는 방법을 '배치 경사 하강법'이라고 부릅니다. 반면, 미니 배치 단위로 경사 하강법을 수행하는 방법을 '미니 배치 경사 하강법'이라고 부릅니다.\n",
    "\n",
    "배치 경사 하강법은 경사 하강법을 할 때, 전체 데이터를 사용하므로 가중치 값이 최적값에 수렴하는 과정이 매우 안정적이지만, 계산량이 너무 많이 듭니다. 미니 배치 경사 하강법은 경사 하강법을 할 때, 전체 데이터의 일부만을 보고 수행하므로 최적값으로 수렴하는 과정에서 값이 조금 헤매기도 하지만 훈련 속도가 빠릅니다.\n",
    "\n",
    "배치 크기는 보통 2의 제곱수를 사용합니다. ex) 2, 4, 8, 16, 32, 64... 그 이유는 CPU와 GPU의 메모리가 2의 배수이므로 배치크기가 2의 제곱수일 경우에 데이터 송수신의 효율을 높일 수 있다고 합니다."
   ]
  },
  {
   "cell_type": "markdown",
   "id": "6262557d",
   "metadata": {},
   "source": [
    "미니 배치와 배치 크기의 정의에 대해서 이해하였다면 이터레이션(iteration)을 정의할 수 있습니다.\n",
    "\n",
    "위의 그림은 에포크와 배치 크기와 이터레이션의 관계를 보여줍니다. 위의 그림의 예제를 통해 설명해보겠습니다.\n",
    "\n",
    "이터레이션은 한 번의 에포크 내에서 이루어지는 매개변수인 가중치 와 의 업데이트 횟수입니다. 전체 데이터가 2,000일 때 배치 크기를 200으로 한다면 이터레이션의 수는 총 10개입니다. 이는 한 번의 에포크(2000) 당 매개변수 업데이트가 10번 이루어짐을 의미합니다.\n",
    "\n",
    "이제 미니 배치 학습을 할 수 있도록 도와주는 파이토치의 도구들을 알아봅시다."
   ]
  },
  {
   "cell_type": "markdown",
   "id": "3c5edb59",
   "metadata": {},
   "source": [
    "# Data Load\n",
    "파이토치에서는 데이터를 좀 더 쉽게 다룰 수 있도록 유용한 도구로서 데이터셋(Dataset)과 데이터로더(DataLoader)를 제공합니다. 이를 사용하면 미니 배치 학습, 데이터 셔플(shuffle), 병렬 처리까지 간단히 수행할 수 있습니다. 기본적인 사용 방법은 Dataset을 정의하고, 이를 DataLoader에 전달하는 것입니다.\n",
    "\n",
    "Dataset을 커스텀하여 만들 수도 있지만 여기서는 텐서를 입력받아 Dataset의 형태로 변환해주는 TensorDataset을 사용해보겠습니다.\n",
    "\n"
   ]
  },
  {
   "cell_type": "code",
   "execution_count": 1,
   "id": "e8521428",
   "metadata": {},
   "outputs": [],
   "source": [
    "import torch\n",
    "import torch.nn as nn\n",
    "import torch.nn.functional as F"
   ]
  },
  {
   "cell_type": "code",
   "execution_count": 2,
   "id": "87a1cb2b",
   "metadata": {},
   "outputs": [],
   "source": [
    "from torch.utils.data import TensorDataset # 텐서데이터셋\n",
    "from torch.utils.data import DataLoader # 데이터로더"
   ]
  },
  {
   "cell_type": "code",
   "execution_count": 3,
   "id": "80ae76d1",
   "metadata": {},
   "outputs": [],
   "source": [
    "x_train  =  torch.FloatTensor([[73,  80,  75], \n",
    "                               [93,  88,  93], \n",
    "                               [89,  91,  90], \n",
    "                               [96,  98,  100],   \n",
    "                               [73,  66,  70]])  \n",
    "y_train  =  torch.FloatTensor([[152],  [185],  [180],  [196],  [142]])"
   ]
  },
  {
   "cell_type": "code",
   "execution_count": 4,
   "id": "60d6ff6a",
   "metadata": {},
   "outputs": [],
   "source": [
    "dataset = TensorDataset(x_train, y_train)"
   ]
  },
  {
   "cell_type": "markdown",
   "id": "253c5c21",
   "metadata": {},
   "source": [
    "파이토치의 데이터셋을 만들었다면 데이터로더를 사용 가능합니다. 데이터로더는 기본적으로 2개의 인자를 입력받는다. 하나는 데이터셋, 미니 배치의 크기입니다. 이때 미니 배치의 크기는 통상적으로 2의 배수를 사용합니다. (ex) 64, 128, 256...) 그리고 추가적으로 많이 사용되는 인자로 shuffle이 있습니다. shuffle=True를 선택하면 Epoch마다 데이터셋을 섞어서 데이터가 학습되는 순서를 바꿉니다.\n",
    "\n",
    "사람도 같은 문제지를 계속 풀면 어느 순간 문제의 순서에 익숙해질 수 있습니다. 예를 들어 어떤 문제지의 12번 문제를 풀면서, '13번 문제가 뭔지는 기억은 안 나지만 어제 풀었던 기억으로 정답은 5번이었던 것 같은데' 하면서 문제 자체보단 순서에 익숙해질 수 있다는 것입니다. 그럴 때 문제지를 풀 때마다 문제 순서를 랜덤으로 바꾸면 도움이 될 겁니다. 마찬가지로 모델이 데이터셋의 순서에 익숙해지는 것을 방지하여 학습할 때는 이 옵션을 True를 주는 것을 권장합니다."
   ]
  },
  {
   "cell_type": "code",
   "execution_count": 5,
   "id": "cbbb7f71",
   "metadata": {},
   "outputs": [],
   "source": [
    "dataloader = DataLoader(dataset, batch_size=2, shuffle=True)"
   ]
  },
  {
   "cell_type": "code",
   "execution_count": 6,
   "id": "4662fac3",
   "metadata": {},
   "outputs": [],
   "source": [
    "model = nn.Linear(3,1)\n",
    "optimizer = torch.optim.SGD(model.parameters(), lr=1e-5) "
   ]
  },
  {
   "cell_type": "code",
   "execution_count": 7,
   "id": "6f0b91e2",
   "metadata": {},
   "outputs": [
    {
     "name": "stdout",
     "output_type": "stream",
     "text": [
      "Epoch    0/20 Batch 1/3 Cost: 67133.171875\n",
      "Epoch    0/20 Batch 2/3 Cost: 9062.516602\n",
      "Epoch    0/20 Batch 3/3 Cost: 6451.818359\n",
      "Epoch    1/20 Batch 1/3 Cost: 1072.777466\n",
      "Epoch    1/20 Batch 2/3 Cost: 712.474670\n",
      "Epoch    1/20 Batch 3/3 Cost: 200.301361\n",
      "Epoch    2/20 Batch 1/3 Cost: 36.837139\n",
      "Epoch    2/20 Batch 2/3 Cost: 10.878510\n",
      "Epoch    2/20 Batch 3/3 Cost: 1.739198\n",
      "Epoch    3/20 Batch 1/3 Cost: 0.969490\n",
      "Epoch    3/20 Batch 2/3 Cost: 1.619810\n",
      "Epoch    3/20 Batch 3/3 Cost: 0.001179\n",
      "Epoch    4/20 Batch 1/3 Cost: 0.113344\n",
      "Epoch    4/20 Batch 2/3 Cost: 1.188943\n",
      "Epoch    4/20 Batch 3/3 Cost: 0.129886\n",
      "Epoch    5/20 Batch 1/3 Cost: 0.160636\n",
      "Epoch    5/20 Batch 2/3 Cost: 1.192322\n",
      "Epoch    5/20 Batch 3/3 Cost: 0.017228\n",
      "Epoch    6/20 Batch 1/3 Cost: 0.780385\n",
      "Epoch    6/20 Batch 2/3 Cost: 0.153007\n",
      "Epoch    6/20 Batch 3/3 Cost: 0.586345\n",
      "Epoch    7/20 Batch 1/3 Cost: 0.032338\n",
      "Epoch    7/20 Batch 2/3 Cost: 0.120076\n",
      "Epoch    7/20 Batch 3/3 Cost: 2.252106\n",
      "Epoch    8/20 Batch 1/3 Cost: 0.554309\n",
      "Epoch    8/20 Batch 2/3 Cost: 0.291496\n",
      "Epoch    8/20 Batch 3/3 Cost: 0.786947\n",
      "Epoch    9/20 Batch 1/3 Cost: 0.022177\n",
      "Epoch    9/20 Batch 2/3 Cost: 0.125752\n",
      "Epoch    9/20 Batch 3/3 Cost: 2.214572\n",
      "Epoch   10/20 Batch 1/3 Cost: 0.992865\n",
      "Epoch   10/20 Batch 2/3 Cost: 0.208785\n",
      "Epoch   10/20 Batch 3/3 Cost: 0.004702\n",
      "Epoch   11/20 Batch 1/3 Cost: 0.077083\n",
      "Epoch   11/20 Batch 2/3 Cost: 0.847761\n",
      "Epoch   11/20 Batch 3/3 Cost: 0.851571\n",
      "Epoch   12/20 Batch 1/3 Cost: 0.095157\n",
      "Epoch   12/20 Batch 2/3 Cost: 1.134752\n",
      "Epoch   12/20 Batch 3/3 Cost: 0.009674\n",
      "Epoch   13/20 Batch 1/3 Cost: 0.738479\n",
      "Epoch   13/20 Batch 2/3 Cost: 0.251294\n",
      "Epoch   13/20 Batch 3/3 Cost: 0.539150\n",
      "Epoch   14/20 Batch 1/3 Cost: 0.048569\n",
      "Epoch   14/20 Batch 2/3 Cost: 1.318200\n",
      "Epoch   14/20 Batch 3/3 Cost: 0.008835\n",
      "Epoch   15/20 Batch 1/3 Cost: 0.007804\n",
      "Epoch   15/20 Batch 2/3 Cost: 0.988244\n",
      "Epoch   15/20 Batch 3/3 Cost: 0.160973\n",
      "Epoch   16/20 Batch 1/3 Cost: 0.904699\n",
      "Epoch   16/20 Batch 2/3 Cost: 0.337180\n",
      "Epoch   16/20 Batch 3/3 Cost: 0.041894\n",
      "Epoch   17/20 Batch 1/3 Cost: 0.181890\n",
      "Epoch   17/20 Batch 2/3 Cost: 1.057022\n",
      "Epoch   17/20 Batch 3/3 Cost: 0.186564\n",
      "Epoch   18/20 Batch 1/3 Cost: 0.024927\n",
      "Epoch   18/20 Batch 2/3 Cost: 1.055781\n",
      "Epoch   18/20 Batch 3/3 Cost: 0.008950\n",
      "Epoch   19/20 Batch 1/3 Cost: 0.063422\n",
      "Epoch   19/20 Batch 2/3 Cost: 0.201829\n",
      "Epoch   19/20 Batch 3/3 Cost: 2.008040\n",
      "Epoch   20/20 Batch 1/3 Cost: 0.446133\n",
      "Epoch   20/20 Batch 2/3 Cost: 1.124748\n",
      "Epoch   20/20 Batch 3/3 Cost: 0.003446\n"
     ]
    }
   ],
   "source": [
    "nb_epochs = 20\n",
    "for epoch in range(nb_epochs + 1):\n",
    "  for batch_idx, samples in enumerate(dataloader):\n",
    "    # print(batch_idx)\n",
    "    # print(samples)\n",
    "    x_train, y_train = samples\n",
    "    # H(x) 계산\n",
    "    prediction = model(x_train)\n",
    "\n",
    "    # cost 계산\n",
    "    cost = F.mse_loss(prediction, y_train)\n",
    "\n",
    "    # cost로 H(x) 계산\n",
    "    optimizer.zero_grad()\n",
    "    cost.backward()\n",
    "    optimizer.step()\n",
    "\n",
    "    print('Epoch {:4d}/{} Batch {}/{} Cost: {:.6f}'.format(\n",
    "        epoch, nb_epochs, batch_idx+1, len(dataloader),\n",
    "        cost.item()\n",
    "        ))"
   ]
  },
  {
   "cell_type": "code",
   "execution_count": 8,
   "id": "f7eec89a",
   "metadata": {},
   "outputs": [
    {
     "name": "stdout",
     "output_type": "stream",
     "text": [
      "훈련 후 입력이 73, 80, 75일 때의 예측값 : tensor([[150.7307]], grad_fn=<AddmmBackward0>)\n"
     ]
    }
   ],
   "source": [
    "# 임의의 입력 [73, 80, 75]를 선언\n",
    "new_var =  torch.FloatTensor([[73, 80, 75]]) \n",
    "# 입력한 값 [73, 80, 75]에 대해서 예측값 y를 리턴받아서 pred_y에 저장\n",
    "pred_y = model(new_var) \n",
    "print(\"훈련 후 입력이 73, 80, 75일 때의 예측값 :\", pred_y) "
   ]
  }
 ],
 "metadata": {
  "kernelspec": {
   "display_name": "Python 3 (ipykernel)",
   "language": "python",
   "name": "python3"
  },
  "language_info": {
   "codemirror_mode": {
    "name": "ipython",
    "version": 3
   },
   "file_extension": ".py",
   "mimetype": "text/x-python",
   "name": "python",
   "nbconvert_exporter": "python",
   "pygments_lexer": "ipython3",
   "version": "3.9.7"
  }
 },
 "nbformat": 4,
 "nbformat_minor": 5
}
