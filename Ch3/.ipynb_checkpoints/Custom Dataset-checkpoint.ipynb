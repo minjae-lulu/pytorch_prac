{
 "cells": [
  {
   "cell_type": "markdown",
   "id": "6b33da8f",
   "metadata": {},
   "source": [
    "# Custom Dataset\n",
    "그런데 torch.utils.data.Dataset을 상속받아 직접 커스텀 데이터셋(Custom Dataset)을 만드는 경우도 있습니다. torch.utils.data.Dataset은 파이토치에서 데이터셋을 제공하는 추상 클래스입니다. Dataset을 상속받아 다음 메소드들을 오버라이드 하여 커스텀 데이터셋을 만들어보겠습니다.\n",
    "\n",
    "커스텀 데이터셋을 만들 때, 일단 가장 기본적인 뼈대는 아래와 같습니다. 여기서 필요한 기본적인 define은 3개입니다."
   ]
  },
  {
   "cell_type": "markdown",
   "id": "0b0cf2b5",
   "metadata": {},
   "source": [
    "class CustomDataset(torch.utils.data.Dataset): \n",
    "  def __init__(self):\n",
    "  데이터셋의 전처리를 해주는 부분\n",
    "\n",
    "  def __len__(self):\n",
    "  데이터셋의 길이. 즉, 총 샘플의 수를 적어주는 부분\n",
    "\n",
    "  def __getitem__(self, idx): \n",
    "  데이터셋에서 특정 1개의 샘플을 가져오는 함수"
   ]
  },
  {
   "cell_type": "code",
   "execution_count": 3,
   "id": "0a7f41b6",
   "metadata": {},
   "outputs": [],
   "source": [
    "import torch\n",
    "import torch.nn.functional as F\n",
    "from torch.utils.data import Dataset\n",
    "from torch.utils.data import DataLoader"
   ]
  },
  {
   "cell_type": "code",
   "execution_count": 4,
   "id": "61db0322",
   "metadata": {},
   "outputs": [],
   "source": [
    "# Dataset 상속\n",
    "class CustomDataset(Dataset): \n",
    "  def __init__(self):\n",
    "    self.x_data = [[73, 80, 75],\n",
    "                   [93, 88, 93],\n",
    "                   [89, 91, 90],\n",
    "                   [96, 98, 100],\n",
    "                   [73, 66, 70]]\n",
    "    self.y_data = [[152], [185], [180], [196], [142]]\n",
    "\n",
    "  # 총 데이터의 개수를 리턴\n",
    "  def __len__(self): \n",
    "    return len(self.x_data)\n",
    "\n",
    "  # 인덱스를 입력받아 그에 맵핑되는 입출력 데이터를 파이토치의 Tensor 형태로 리턴\n",
    "  def __getitem__(self, idx): \n",
    "    x = torch.FloatTensor(self.x_data[idx])\n",
    "    y = torch.FloatTensor(self.y_data[idx])\n",
    "    return x, y"
   ]
  },
  {
   "cell_type": "code",
   "execution_count": 5,
   "id": "f7498937",
   "metadata": {},
   "outputs": [],
   "source": [
    "dataset = CustomDataset()\n",
    "dataloader = DataLoader(dataset, batch_size=2, shuffle=True)"
   ]
  },
  {
   "cell_type": "code",
   "execution_count": 6,
   "id": "262eb6a3",
   "metadata": {},
   "outputs": [],
   "source": [
    "model = torch.nn.Linear(3,1)\n",
    "optimizer = torch.optim.SGD(model.parameters(), lr=1e-5) "
   ]
  },
  {
   "cell_type": "code",
   "execution_count": 7,
   "id": "9332e6d4",
   "metadata": {},
   "outputs": [
    {
     "name": "stdout",
     "output_type": "stream",
     "text": [
      "Epoch    0/20 Batch 1/3 Cost: 87778.250000\n",
      "Epoch    0/20 Batch 2/3 Cost: 19819.919922\n",
      "Epoch    0/20 Batch 3/3 Cost: 4890.045898\n",
      "Epoch    1/20 Batch 1/3 Cost: 3425.487793\n",
      "Epoch    1/20 Batch 2/3 Cost: 537.418945\n",
      "Epoch    1/20 Batch 3/3 Cost: 141.797302\n",
      "Epoch    2/20 Batch 1/3 Cost: 98.150101\n",
      "Epoch    2/20 Batch 2/3 Cost: 40.382076\n",
      "Epoch    2/20 Batch 3/3 Cost: 7.256075\n",
      "Epoch    3/20 Batch 1/3 Cost: 7.158165\n",
      "Epoch    3/20 Batch 2/3 Cost: 0.043449\n",
      "Epoch    3/20 Batch 3/3 Cost: 7.253856\n",
      "Epoch    4/20 Batch 1/3 Cost: 2.838134\n",
      "Epoch    4/20 Batch 2/3 Cost: 1.698728\n",
      "Epoch    4/20 Batch 3/3 Cost: 3.654645\n",
      "Epoch    5/20 Batch 1/3 Cost: 2.669802\n",
      "Epoch    5/20 Batch 2/3 Cost: 2.976050\n",
      "Epoch    5/20 Batch 3/3 Cost: 2.308465\n",
      "Epoch    6/20 Batch 1/3 Cost: 1.465569\n",
      "Epoch    6/20 Batch 2/3 Cost: 5.418276\n",
      "Epoch    6/20 Batch 3/3 Cost: 1.469660\n",
      "Epoch    7/20 Batch 1/3 Cost: 3.343411\n",
      "Epoch    7/20 Batch 2/3 Cost: 1.862384\n",
      "Epoch    7/20 Batch 3/3 Cost: 1.190455\n",
      "Epoch    8/20 Batch 1/3 Cost: 3.328407\n",
      "Epoch    8/20 Batch 2/3 Cost: 0.871944\n",
      "Epoch    8/20 Batch 3/3 Cost: 4.583059\n",
      "Epoch    9/20 Batch 1/3 Cost: 1.736156\n",
      "Epoch    9/20 Batch 2/3 Cost: 2.128096\n",
      "Epoch    9/20 Batch 3/3 Cost: 5.683469\n",
      "Epoch   10/20 Batch 1/3 Cost: 2.607932\n",
      "Epoch   10/20 Batch 2/3 Cost: 3.969854\n",
      "Epoch   10/20 Batch 3/3 Cost: 3.409888\n",
      "Epoch   11/20 Batch 1/3 Cost: 1.978168\n",
      "Epoch   11/20 Batch 2/3 Cost: 1.176715\n",
      "Epoch   11/20 Batch 3/3 Cost: 6.451101\n",
      "Epoch   12/20 Batch 1/3 Cost: 2.831220\n",
      "Epoch   12/20 Batch 2/3 Cost: 1.983471\n",
      "Epoch   12/20 Batch 3/3 Cost: 3.330168\n",
      "Epoch   13/20 Batch 1/3 Cost: 2.741306\n",
      "Epoch   13/20 Batch 2/3 Cost: 2.927388\n",
      "Epoch   13/20 Batch 3/3 Cost: 2.243779\n",
      "Epoch   14/20 Batch 1/3 Cost: 1.436367\n",
      "Epoch   14/20 Batch 2/3 Cost: 5.000732\n",
      "Epoch   14/20 Batch 3/3 Cost: 1.853837\n",
      "Epoch   15/20 Batch 1/3 Cost: 0.418662\n",
      "Epoch   15/20 Batch 2/3 Cost: 3.712760\n",
      "Epoch   15/20 Batch 3/3 Cost: 3.470566\n",
      "Epoch   16/20 Batch 1/3 Cost: 2.884912\n",
      "Epoch   16/20 Batch 2/3 Cost: 4.336243\n",
      "Epoch   16/20 Batch 3/3 Cost: 2.652590\n",
      "Epoch   17/20 Batch 1/3 Cost: 1.040949\n",
      "Epoch   17/20 Batch 2/3 Cost: 2.426638\n",
      "Epoch   17/20 Batch 3/3 Cost: 5.087043\n",
      "Epoch   18/20 Batch 1/3 Cost: 2.940874\n",
      "Epoch   18/20 Batch 2/3 Cost: 1.725900\n",
      "Epoch   18/20 Batch 3/3 Cost: 2.006570\n",
      "Epoch   19/20 Batch 1/3 Cost: 0.726214\n",
      "Epoch   19/20 Batch 2/3 Cost: 5.805706\n",
      "Epoch   19/20 Batch 3/3 Cost: 2.041084\n",
      "Epoch   20/20 Batch 1/3 Cost: 1.936968\n",
      "Epoch   20/20 Batch 2/3 Cost: 1.233011\n",
      "Epoch   20/20 Batch 3/3 Cost: 6.359345\n"
     ]
    }
   ],
   "source": [
    "nb_epochs = 20\n",
    "for epoch in range(nb_epochs + 1):\n",
    "  for batch_idx, samples in enumerate(dataloader):\n",
    "    # print(batch_idx)\n",
    "    # print(samples)\n",
    "    x_train, y_train = samples\n",
    "    # H(x) 계산\n",
    "    prediction = model(x_train)\n",
    "\n",
    "    # cost 계산\n",
    "    cost = F.mse_loss(prediction, y_train)\n",
    "\n",
    "    # cost로 H(x) 계산\n",
    "    optimizer.zero_grad()\n",
    "    cost.backward()\n",
    "    optimizer.step()\n",
    "\n",
    "    print('Epoch {:4d}/{} Batch {}/{} Cost: {:.6f}'.format(\n",
    "        epoch, nb_epochs, batch_idx+1, len(dataloader),\n",
    "        cost.item()\n",
    "        ))"
   ]
  },
  {
   "cell_type": "code",
   "execution_count": 8,
   "id": "96144188",
   "metadata": {},
   "outputs": [
    {
     "name": "stdout",
     "output_type": "stream",
     "text": [
      "훈련 후 입력이 73, 80, 75일 때의 예측값 : tensor([[153.4550]], grad_fn=<AddmmBackward0>)\n"
     ]
    }
   ],
   "source": [
    "# 임의의 입력 [73, 80, 75]를 선언\n",
    "new_var =  torch.FloatTensor([[73, 80, 75]]) \n",
    "# 입력한 값 [73, 80, 75]에 대해서 예측값 y를 리턴받아서 pred_y에 저장\n",
    "pred_y = model(new_var) \n",
    "print(\"훈련 후 입력이 73, 80, 75일 때의 예측값 :\", pred_y) "
   ]
  }
 ],
 "metadata": {
  "kernelspec": {
   "display_name": "Python 3 (ipykernel)",
   "language": "python",
   "name": "python3"
  },
  "language_info": {
   "codemirror_mode": {
    "name": "ipython",
    "version": 3
   },
   "file_extension": ".py",
   "mimetype": "text/x-python",
   "name": "python",
   "nbconvert_exporter": "python",
   "pygments_lexer": "ipython3",
   "version": "3.9.7"
  }
 },
 "nbformat": 4,
 "nbformat_minor": 5
}
