{
 "cells": [
  {
   "cell_type": "code",
   "execution_count": 1,
   "id": "b776e95f",
   "metadata": {},
   "outputs": [],
   "source": [
    "result = 0"
   ]
  },
  {
   "cell_type": "code",
   "execution_count": 2,
   "id": "97e486fc",
   "metadata": {},
   "outputs": [],
   "source": [
    "def add(num):\n",
    "    global result\n",
    "    result += num\n",
    "    return result"
   ]
  },
  {
   "cell_type": "code",
   "execution_count": 3,
   "id": "87d432ef",
   "metadata": {},
   "outputs": [
    {
     "name": "stdout",
     "output_type": "stream",
     "text": [
      "3\n",
      "7\n"
     ]
    }
   ],
   "source": [
    "print(add(3))\n",
    "print(add(4))"
   ]
  },
  {
   "cell_type": "code",
   "execution_count": 4,
   "id": "b83e0780",
   "metadata": {},
   "outputs": [
    {
     "name": "stdout",
     "output_type": "stream",
     "text": [
      "3\n",
      "7\n",
      "3\n",
      "10\n"
     ]
    }
   ],
   "source": [
    "result1 = 0\n",
    "result2 = 0\n",
    "\n",
    "def add1(num):\n",
    "    global result1\n",
    "    result1 += num\n",
    "    return result1\n",
    "\n",
    "def add2(num):\n",
    "    global result2\n",
    "    result2 += num\n",
    "    return result2\n",
    "\n",
    "print(add1(3))\n",
    "print(add1(4))\n",
    "print(add2(3))\n",
    "print(add2(7))"
   ]
  },
  {
   "cell_type": "markdown",
   "id": "6af5952d",
   "metadata": {},
   "source": [
    "## Class"
   ]
  },
  {
   "cell_type": "code",
   "execution_count": 6,
   "id": "65c12dbf",
   "metadata": {},
   "outputs": [],
   "source": [
    "class Calculator:\n",
    "    def __init__(self): # 객체 생성 시 호출될 때 실행되는 초기화 함수. 이를 생성자라고 한다.\n",
    "        self.result = 0\n",
    "\n",
    "    def add(self, num): # 객체 생성 후 사용할 수 있는 함수.\n",
    "        self.result += num\n",
    "        return self.result"
   ]
  },
  {
   "cell_type": "code",
   "execution_count": 8,
   "id": "ec34f671",
   "metadata": {},
   "outputs": [],
   "source": [
    "cal1 = Calculator()\n",
    "cal2 = Calculator()"
   ]
  },
  {
   "cell_type": "code",
   "execution_count": 9,
   "id": "5ec8e182",
   "metadata": {},
   "outputs": [
    {
     "name": "stdout",
     "output_type": "stream",
     "text": [
      "3\n",
      "7\n",
      "3\n",
      "10\n"
     ]
    }
   ],
   "source": [
    "print(cal1.add(3))\n",
    "print(cal1.add(4))\n",
    "print(cal2.add(3))\n",
    "print(cal2.add(7))"
   ]
  }
 ],
 "metadata": {
  "kernelspec": {
   "display_name": "Python 3 (ipykernel)",
   "language": "python",
   "name": "python3"
  },
  "language_info": {
   "codemirror_mode": {
    "name": "ipython",
    "version": 3
   },
   "file_extension": ".py",
   "mimetype": "text/x-python",
   "name": "python",
   "nbconvert_exporter": "python",
   "pygments_lexer": "ipython3",
   "version": "3.9.7"
  }
 },
 "nbformat": 4,
 "nbformat_minor": 5
}
